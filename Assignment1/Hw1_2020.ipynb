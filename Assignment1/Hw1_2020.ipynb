{
 "cells": [
  {
   "cell_type": "markdown",
   "metadata": {
    "colab_type": "text",
    "id": "1UKOQcXNtJ8e"
   },
   "source": [
    "$\\qquad$ $\\qquad$$\\qquad$  **TDA 231 Machine Learning: Homework 1** <br />\n",
    "$\\qquad$ $\\qquad$$\\qquad$ **Goal: Introduction to Probability,  MLE and Jupyter python Notebook**<br />\n",
    "$\\qquad$ $\\qquad$$\\qquad$                   **Grader: Emilio** <br />\n",
    "$\\qquad$ $\\qquad$$\\qquad$                   **Submitted by: Name, Personal no., email** <br />"
   ]
  },
  {
   "cell_type": "markdown",
   "metadata": {
    "colab_type": "text",
    "id": "PQ8gZxqWtJ8h"
   },
   "source": [
    "General guidelines:\n",
    "* All solutions to theoretical and pratical problems must be submitted in this ipynb notebook, and equations wherever required, should be formatted using LaTeX math-mode.\n",
    "* All discussion regarding practical problems, along with solutions and plots should be specified in this notebook. \n",
    "All plots/results should be visible such that the notebook do not have to be run. But the code in the notebook should reproduce the plots/results if we choose to do so.\n",
    "* Your name, personal number and email address should be specified above.\n",
    "* All tables and other additional information should be included in this notebook.\n",
    "* ** Before submitting, make sure that your code can run on another computer. That all plots can show on another computer including all your writing. It is good to check if your code can run here: https://colab.research.google.com **\n",
    "* ** Upload both the .ipynb and the generatable .html file (that can be exported through File > Download As > HTML) **"
   ]
  },
  {
   "cell_type": "markdown",
   "metadata": {
    "colab_type": "text",
    "id": "vrnQ98KgtJ8i"
   },
   "source": [
    "**Jupyter/IPython Notebook** is a collaborative Python web-based environment. This will be used in all our Homework Assignments. It is installed in the halls ES61-ES62, E-studio and MT9. You can also use google-colab: https://colab.research.google.com\n",
    "to run these notebooks without having to download, install, or do anything on your own computer other than a browser.\n",
    "Some useful resources:\n",
    "1. https://jupyter-notebook-beginner-guide.readthedocs.io/en/latest/ (Quick-start guide)\n",
    "2. https://www.kdnuggets.com/2016/04/top-10-ipython-nb-tutorials.html\n",
    "3. http://data-blog.udacity.com/posts/2016/10/latex-primer/ (latex-primer)\n",
    "4. http://jupyter-notebook.readthedocs.io/en/stable/examples/Notebook/Working%20With%20Markdown%20Cells.html (markdown)"
   ]
  },
  {
   "cell_type": "markdown",
   "metadata": {
    "colab_type": "text",
    "id": "fl1Lu21rtJ8k"
   },
   "source": [
    "# Theoretical problems\n",
    "\n",
    "## [Bayes Rule, 3 points]\n",
    "\n",
    "After your yearly checkup, the doctor has bad news and good news. The\n",
    "bad news is that you tested positive for a very serious cancer and\n",
    "that the test is 99.2% accurate i.e. the probability of testing\n",
    "positive given you have the disease is 0.992. The probability of\n",
    "testing negative if you don’t have the disease is the same (also 0.992). The good news is that it is a rare condition affecting only 1 in 1,000 people. What is the probability you actually have the disease? \n",
    "\n",
    "After doing all your calculations you realize that there was a misprint on the test, and the accuracy was actually only 92% (for both testing postive given that you have the disease and for testing negative given that you do not have the disease). How will this change your probability of having the disease?\n",
    "\n",
    "(Show all calculations and the final result.)\n"
   ]
  },
  {
   "cell_type": "markdown",
   "metadata": {},
   "source": [
    "## [Setting hyperparameters, 2 points]\n",
    "\n",
    "Suppose $\\theta$ is a random variable generated from a beta distribution as: $\\theta \\sim \\mbox{Beta}(a^2,b)$. Also assume that  the expectation of $\\theta$ is $m$: $E[\\theta] = m$\n",
    "and the variance of $\\theta$ is v: $\\mbox{var}(\\theta) = v$. Express $a$ and $b$ in term of (only) $m$ and $v$.\n",
    "For more information about the $\\mbox{Beta}$ distribution see https://en.wikipedia.org/wiki/Beta_distribution."
   ]
  },
  {
   "cell_type": "markdown",
   "metadata": {},
   "source": [
    "\n",
    "## [Correlation and Independence, 2 points]\n",
    "\n",
    "Let $X$ be a continuous random variable, uniformly distributed in $[-2, +2]$ and let $Y := X^4$. Clearly $Y$ is not independent of $X$ -- in fact it is uniquely determined by $X$. However, show that the covariance of $X$ and $Y$ is 0: $\\mbox{cov}(X, Y ) = 0$.\n",
    "Show and justify every step of the proof. Statements like \"it is obvious that, it is trivial ...\" will not be accepted."
   ]
  },
  {
   "cell_type": "markdown",
   "metadata": {
    "colab_type": "text",
    "id": "lO0M1fgXMtMD"
   },
   "source": [
    "Write Answers  here. Double-click (or enter) to edit. Latex mathematical expressions can just be written by starting with \"$\" and ending with the same character.\n",
    "\n",
    "## Bayes Rules\n",
    "\n",
    "## Setting hyperparameters\n",
    "\n",
    "## Correlation\n"
   ]
  },
  {
   "cell_type": "markdown",
   "metadata": {
    "colab_type": "text",
    "id": "498qdw9utJ8t"
   },
   "source": [
    "# Practical problems\n",
    "\n",
    "**Useful python libraries/functions:**\n",
    "* **General:**  shape, reshape, np.mean etc.\n",
    "* **Plotting:** plot, scatter, legend, hold, imshow, subplot, grid, title etc. Always show legends for your plots.\n",
    "* **Code:**  Make sure your code is well commented and variables have intuitive names. Organize your code into functions and comment on the input and output.\n",
    "\n",
    "## [Spherical Gaussian estimation, 9 points]\n",
    "\n",
    "Consider a dataset $X$ consisting of i.i.d. observations\n",
    "generated from a spherical Gaussian distribution $N(\\mu, 2\\sigma^2I)$, where $\\mu \\in \\mathbb{R}^p$, $I$ \n",
    "is the $p \\times p $ identity matrix, and $\\sigma^2$ is a scalar.\n",
    "\n",
    "(a) Write the mathematical expression for the Maximum Likelihood Estimator (MLE) for $\\mu$ and $\\sigma$ in above setup. (HINT: Use latex equations here).\n",
    "\n",
    "(b) Implement a function **sge(X)** that estimates the mean $\\mu$ and the standard deviation $\\sigma$ from the given data $X$, using exactly the mathematical expression derived in (a). Note: You cannot use **numpy.cov**, **numpy.mean**, **numpy.sum** or any other library functions for calculating the mean, variance, standard deviation. (Hint: A skeleton of this function **sge(X)** is provided in the code from the next cell).\n",
    "\n",
    "(c) Implement a function **myplot1(X)** which takes as input the dataset $X$; and draws, on the same plot, the following:\n",
    "1. A scatter plot of the original data $X$, \n",
    "2. Circles with center $\\mu$ and radius $r= \\sqrt{2}k\\sigma$ for $k=1, 2, 3$ where $\\mathbf{\\mu}$ and $\\sigma$ denotes the mean and standard deviation estimated using **sge(X)**. \n",
    "3. Legend for each circle indicating the fraction of points (in the original dataset) that lie outside the circle boundary.\n",
    "\n",
    "(d) Load the dataset from http://bit.ly/HW1_2019 and run your code using only the first two features of the dataset. Submit the resulting plot as well as your implementation here.\n",
    "\n",
    "For more information about the spherical Gaussian distribution, see https://en.wikipedia.org/wiki/Multivariate_normal_distribution.\n",
    "For more information about the identity matrix see: https://en.wikipedia.org/wiki/Identity_matrix"
   ]
  },
  {
   "cell_type": "markdown",
   "metadata": {
    "colab_type": "text",
    "id": "p282-fJHL66U"
   },
   "source": [
    "Double-click (or enter) to edit. Write Answer to (a) here. Latex mathematical expressions can just be written by starting with \"$\" and ending with the same character.\n",
    "\n",
    "\n",
    "$L = p(\\mathbf{X}_n|\\sigma^2, \\mu) = \\Pi_{n=1}^{N} \\mathcal{N}(\\mu,\\sum)$ where $\\sum = 2\\sigma^2\\textbf{I}$\n",
    "\n",
    "Taking the log on both sides and inserting the gaussian multivariate equation yields\n",
    "\n",
    "$log(L) = \\sum_{n=1}^{N} log \\frac{1}{(2\\pi)^{D/2} |2\\sigma^2 \\mathbf{I}|^{1/2} } exp\\left(-\\frac{1}{2}(\\mathbf{x}_n - \\mathbf{\\mu})^T(2\\sigma\\mathbf{I})^{-1}(\\mathbf{x}_n - \\mathbf{\\mu})\\right)$\n",
    "\n",
    "$log(L) = \\sum_{n=1}^{N} \\left( -\\frac{D}{2}log(2\\pi) - \\frac{1}{2}log(|2\\sigma^2|) -\\frac{1}{4\\sigma^2}(\\mathbf{x}_n - \\mathbf{\\mu})^T\\mathbf{I}(\\mathbf{x}_n - \\mathbf{\\mu})\\right)$\n",
    "\n",
    "$log(L) = -\\frac{DN}{2}log(2\\pi) - \\frac{N}{2}log(2\\sigma^2) - \\frac{1}{4\\sigma^2}\\sum_{n=1}^{N}(\\mathbf{x}_n - \\mathbf{\\mu})^T\\mathbf{I}(\\mathbf{x}_n - \\mathbf{\\mu})$\n",
    "\n",
    "Taking the derivative with respect to $\\mu$: we will use the matrix difrential rules in page 23 in the course book, $\\frac{\\partial{\\mathbf{W^TCW}}}{\\partial{\\mathbf{W}}} = \\mathbf{2CW}$\n",
    "\n",
    "$\\frac{\\partial{log(L)}}{\\partial{\\mathbf{\\mu}}} = \\frac{1}{4\\sigma^2}\\sum_{n=1}2\\mathbf{I}(\\mathbf{x}_n - \\mathbf{\\mu}) = N\\hat{\\mathbf{\\mu}} - \\sum_{n=1}^N\\mathbf{x}_n = 0$, solving for $\\mu$: $\\frac{1}{N}\\sum_{n=1}^N\\mathbf{x}_n$\n",
    "\n",
    "\n",
    "We can acquire the variance in the same way, take the derivative with respect to $\\sigma$ then solve for $\\sigma$\n",
    "\n",
    "$\\frac{\\partial{log(L)}}{\\partial{\\sigma}} = -\\frac{N}{\\hat{\\sigma}} + \\frac{1}{2\\hat{\\sigma^3}}\\sum_{n=1}^{N}(\\mathbf{x}_n - \\mathbf{\\mu})^T\\mathbf{I}(\\mathbf{x}_n - \\mathbf{\\mu}) = 0$\n",
    "\n",
    "\n",
    "$\\hat{\\sigma^2} = \\frac{1}{2N}\\sum_{n=1}^{N}(\\mathbf{x}_n - \\mathbf{\\mu})^T\\mathbf{I}(\\mathbf{x}_n - \\mathbf{\\mu})$\n",
    "\n",
    "\n"
   ]
  },
  {
   "cell_type": "code",
   "execution_count": 38,
   "metadata": {
    "colab": {},
    "colab_type": "code",
    "id": "t5UUxqUzBIV9"
   },
   "outputs": [],
   "source": [
    "# Sample Answer to (b)\n",
    "import numpy as np # numpy\n",
    "\n",
    "\n",
    "def sge(X):\n",
    "    \"\"\"\n",
    "    This function computes  the mean mu and standard deviation sigma \n",
    "    for a dataset coming from spherical Gaussian distribution N(mu, 2 sigma^2 I)\n",
    "\n",
    "    @param X : A numpy array of size n x p where each row represents a p-dimensional data point\n",
    "    e.g. X = [ [2, 1], [3, 7], [4 ,5] ] is a dataset with 3 samples having two coordinates each.\n",
    "    @return mu: A numpy array of size p representing the estimated mean of the dataset\n",
    "    @return sigma: A real number indicating the estimated standard deviation of the dataset\n",
    "    \"\"\"\n",
    "    mu = np.zeros(X.shape[1])\n",
    "    for i in range(len(mu)):\n",
    "        sum_vec = 0;\n",
    "        for j in X[:,i]:\n",
    "            sum_vec += j\n",
    "        mu[i] = sum_vec\n",
    "    mu = 1/X.shape[0]*mu\n",
    "    \n",
    "    sigma = 0\n",
    "    for x_n in X:\n",
    "        sigma += (x_n - mu)**2\n",
    "    \n",
    "    return mu, sigma"
   ]
  },
  {
   "cell_type": "code",
   "execution_count": 94,
   "metadata": {
    "colab": {},
    "colab_type": "code",
    "id": "bXTnJdWTtJ8v"
   },
   "outputs": [
    {
     "name": "stdout",
     "output_type": "stream",
     "text": [
      "0.19366852886405958\n",
      "0.3780260707635009\n",
      "0.5558659217877095\n"
     ]
    },
    {
     "data": {
      "image/png": "[encoded data removed]",
      "text/plain": [
       "<Figure size 432x288 with 1 Axes>"
      ]
     },
     "metadata": {
      "needs_background": "light"
     },
     "output_type": "display_data"
    }
   ],
   "source": [
    "# Sample Answer to (c) and (d)\n",
    "#%matplotlib inline  # Make it possible to show plots in the notebooks.\n",
    "import numpy as np\n",
    "import matplotlib\n",
    "import matplotlib.pyplot as plt # for plots\n",
    "\n",
    "\n",
    "# Sample code\n",
    "def myplot1(X):\n",
    "    \"\"\"\n",
    "    *TODO* Add description of the function here.\n",
    "    \n",
    "    @param X : A numpy array of size n x p where each row represents a p-dimensional data point\n",
    "    \"\"\"\n",
    "    mu, sigma = np.mean(X, axis=0), 25   #rember to change this for later\n",
    "    \n",
    "    ax = plt.gca()\n",
    "    plt.scatter(X[:,0], X[:,1])\n",
    "    colors = ['red', 'blue', 'orange']\n",
    "    for i in range(3):\n",
    "        r = np.sqrt(2)*(i+1)*sigma\n",
    "        \n",
    "        #calc euclidian distance from mu to all other points, assume 2D\n",
    "        x_diff, y_diff = X[:,0] - mu[0], X[:,1] - mu[1]\n",
    "        dist = np.sqrt(np.square(x_diff) + np.square(y_diff))\n",
    "        inside = np.where(dist < r)[0].shape[0]/X.shape[0]\n",
    "        print(inside)\n",
    "        circle = plt.Circle(mu, r, color=colors[i], fill=False)\n",
    "        ax.add_artist(circle)\n",
    "    \n",
    "    plt.xlabel('feature 1')\n",
    "    plt.ylabel('feature 2')\n",
    "    plt.title('Data with confidence circles')\n",
    "    \n",
    "\n",
    "# Load the dataset\n",
    "dataset_source = np.DataSource().open('http://bit.ly/HW1_2019')\n",
    "X = np.loadtxt(dataset_source)[:,:2]\n",
    "# Plot. TODO Make sure to only plot the first two features.\n",
    "myplot1(X)\n"
   ]
  },
  {
   "cell_type": "code",
   "execution_count": null,
   "metadata": {},
   "outputs": [],
   "source": []
  }
 ],
 "metadata": {
  "colab": {
   "name": "Hw1_2019.ipynb",
   "provenance": [
    {
     "file_id": "1Y5XjPfo2fv3nGBtIxbf0F_WFtssz1N_S",
     "timestamp": 1553254350644
    }
   ],
   "version": "0.3.2"
  },
  "kernelspec": {
   "display_name": "Python 3",
   "language": "python",
   "name": "python3"
  },
  "language_info": {
   "codemirror_mode": {
    "name": "ipython",
    "version": 3
   },
   "file_extension": ".py",
   "mimetype": "text/x-python",
   "name": "python",
   "nbconvert_exporter": "python",
   "pygments_lexer": "ipython3",
   "version": "3.7.4"
  }
 },
 "nbformat": 4,
 "nbformat_minor": 1
}
